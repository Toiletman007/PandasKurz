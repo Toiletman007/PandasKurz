{
 "cells": [
  {
   "cell_type": "code",
   "execution_count": 1,
   "id": "e98c5a81-5818-4c28-ac5e-f4017eaa40c4",
   "metadata": {},
   "outputs": [],
   "source": [
    "import pandas as pd"
   ]
  },
  {
   "cell_type": "code",
   "execution_count": 9,
   "id": "aa252072-7a57-4457-8a91-d41f5cca382d",
   "metadata": {},
   "outputs": [
    {
     "data": {
      "text/plain": [
       "0    10\n",
       "1    20\n",
       "2    30\n",
       "3    40\n",
       "4    50\n",
       "dtype: int64"
      ]
     },
     "execution_count": 9,
     "metadata": {},
     "output_type": "execute_result"
    }
   ],
   "source": [
    "my_series = pd.Series([10, 20, 30, 40, 50])\n",
    "type(my_series)\n",
    "my_series"
   ]
  },
  {
   "cell_type": "code",
   "execution_count": 10,
   "id": "f09490d9-f07a-4d90-9dbd-715859b1e260",
   "metadata": {},
   "outputs": [
    {
     "data": {
      "text/html": [
       "<div>\n",
       "<style scoped>\n",
       "    .dataframe tbody tr th:only-of-type {\n",
       "        vertical-align: middle;\n",
       "    }\n",
       "\n",
       "    .dataframe tbody tr th {\n",
       "        vertical-align: top;\n",
       "    }\n",
       "\n",
       "    .dataframe thead th {\n",
       "        text-align: right;\n",
       "    }\n",
       "</style>\n",
       "<table border=\"1\" class=\"dataframe\">\n",
       "  <thead>\n",
       "    <tr style=\"text-align: right;\">\n",
       "      <th></th>\n",
       "      <th>first_name</th>\n",
       "      <th>last_name</th>\n",
       "      <th>email</th>\n",
       "      <th>bank_account</th>\n",
       "      <th>born_year</th>\n",
       "      <th>city</th>\n",
       "    </tr>\n",
       "  </thead>\n",
       "  <tbody>\n",
       "    <tr>\n",
       "      <th>0</th>\n",
       "      <td>Shawn</td>\n",
       "      <td>Gotts</td>\n",
       "      <td>sgotts0@newsvine.com</td>\n",
       "      <td>58.0</td>\n",
       "      <td>NaN</td>\n",
       "      <td>Jinchuan</td>\n",
       "    </tr>\n",
       "    <tr>\n",
       "      <th>1</th>\n",
       "      <td>Sergeant</td>\n",
       "      <td>Linsey</td>\n",
       "      <td>slinsey1@qq.com</td>\n",
       "      <td>70.0</td>\n",
       "      <td>2007.0</td>\n",
       "      <td>Tāngāil</td>\n",
       "    </tr>\n",
       "    <tr>\n",
       "      <th>2</th>\n",
       "      <td>Ambrosio</td>\n",
       "      <td>Gorton</td>\n",
       "      <td>agorton2@google.es</td>\n",
       "      <td>48.0</td>\n",
       "      <td>2000.0</td>\n",
       "      <td>Zhushan Chengguanzhen</td>\n",
       "    </tr>\n",
       "    <tr>\n",
       "      <th>3</th>\n",
       "      <td>Gram</td>\n",
       "      <td>Steanyng</td>\n",
       "      <td>gsteanyng3@google.fr</td>\n",
       "      <td>92.0</td>\n",
       "      <td>1970.0</td>\n",
       "      <td>Hongxing</td>\n",
       "    </tr>\n",
       "    <tr>\n",
       "      <th>4</th>\n",
       "      <td>Britt</td>\n",
       "      <td>Cockaday</td>\n",
       "      <td>bcockaday4@t.co</td>\n",
       "      <td>78.0</td>\n",
       "      <td>1985.0</td>\n",
       "      <td>Nangabulik</td>\n",
       "    </tr>\n",
       "    <tr>\n",
       "      <th>...</th>\n",
       "      <td>...</td>\n",
       "      <td>...</td>\n",
       "      <td>...</td>\n",
       "      <td>...</td>\n",
       "      <td>...</td>\n",
       "      <td>...</td>\n",
       "    </tr>\n",
       "    <tr>\n",
       "      <th>195</th>\n",
       "      <td>Franz</td>\n",
       "      <td>Oppy</td>\n",
       "      <td>foppy5f@shutterfly.com</td>\n",
       "      <td>90.0</td>\n",
       "      <td>2020.0</td>\n",
       "      <td>Bílina Kyselka</td>\n",
       "    </tr>\n",
       "    <tr>\n",
       "      <th>196</th>\n",
       "      <td>Adolphus</td>\n",
       "      <td>Labbati</td>\n",
       "      <td>alabbati5g@yellowbook.com</td>\n",
       "      <td>56.0</td>\n",
       "      <td>1984.0</td>\n",
       "      <td>Berlin</td>\n",
       "    </tr>\n",
       "    <tr>\n",
       "      <th>197</th>\n",
       "      <td>Aurelea</td>\n",
       "      <td>Cordery</td>\n",
       "      <td>acordery5h@furl.net</td>\n",
       "      <td>NaN</td>\n",
       "      <td>1992.0</td>\n",
       "      <td>Veshnyaki</td>\n",
       "    </tr>\n",
       "    <tr>\n",
       "      <th>198</th>\n",
       "      <td>Armstrong</td>\n",
       "      <td>Laughren</td>\n",
       "      <td>alaughren5i@yahoo.co.jp</td>\n",
       "      <td>87.0</td>\n",
       "      <td>1983.0</td>\n",
       "      <td>Detik Satu</td>\n",
       "    </tr>\n",
       "    <tr>\n",
       "      <th>199</th>\n",
       "      <td>Henrietta</td>\n",
       "      <td>Peckitt</td>\n",
       "      <td>hpeckitt5j@multiply.com</td>\n",
       "      <td>NaN</td>\n",
       "      <td>1967.0</td>\n",
       "      <td>Phú Lộc</td>\n",
       "    </tr>\n",
       "  </tbody>\n",
       "</table>\n",
       "<p>200 rows × 6 columns</p>\n",
       "</div>"
      ],
      "text/plain": [
       "    first_name last_name                      email  bank_account  born_year  \\\n",
       "0        Shawn     Gotts       sgotts0@newsvine.com          58.0        NaN   \n",
       "1     Sergeant    Linsey            slinsey1@qq.com          70.0     2007.0   \n",
       "2     Ambrosio    Gorton         agorton2@google.es          48.0     2000.0   \n",
       "3         Gram  Steanyng       gsteanyng3@google.fr          92.0     1970.0   \n",
       "4        Britt  Cockaday            bcockaday4@t.co          78.0     1985.0   \n",
       "..         ...       ...                        ...           ...        ...   \n",
       "195      Franz      Oppy     foppy5f@shutterfly.com          90.0     2020.0   \n",
       "196   Adolphus   Labbati  alabbati5g@yellowbook.com          56.0     1984.0   \n",
       "197    Aurelea   Cordery        acordery5h@furl.net           NaN     1992.0   \n",
       "198  Armstrong  Laughren    alaughren5i@yahoo.co.jp          87.0     1983.0   \n",
       "199  Henrietta   Peckitt    hpeckitt5j@multiply.com           NaN     1967.0   \n",
       "\n",
       "                      city  \n",
       "0                 Jinchuan  \n",
       "1                  Tāngāil  \n",
       "2    Zhushan Chengguanzhen  \n",
       "3                 Hongxing  \n",
       "4               Nangabulik  \n",
       "..                     ...  \n",
       "195         Bílina Kyselka  \n",
       "196                 Berlin  \n",
       "197              Veshnyaki  \n",
       "198             Detik Satu  \n",
       "199                Phú Lộc  \n",
       "\n",
       "[200 rows x 6 columns]"
      ]
     },
     "execution_count": 10,
     "metadata": {},
     "output_type": "execute_result"
    }
   ],
   "source": [
    "bank_account = pd.read_csv(\"bank_users.csv\")\n",
    "bank_account"
   ]
  },
  {
   "cell_type": "code",
   "execution_count": 11,
   "id": "fc4cf99a-a8e6-4bee-87d6-ba4d551512b3",
   "metadata": {},
   "outputs": [
    {
     "data": {
      "text/plain": [
       "RangeIndex(start=0, stop=200, step=1)"
      ]
     },
     "execution_count": 11,
     "metadata": {},
     "output_type": "execute_result"
    }
   ],
   "source": [
    "bank_account.index"
   ]
  },
  {
   "cell_type": "code",
   "execution_count": null,
   "id": "69b8d017-8f33-404d-9d65-f130f878ae35",
   "metadata": {},
   "outputs": [],
   "source": []
  }
 ],
 "metadata": {
  "kernelspec": {
   "display_name": "Python 3 (ipykernel)",
   "language": "python",
   "name": "python3"
  },
  "language_info": {
   "codemirror_mode": {
    "name": "ipython",
    "version": 3
   },
   "file_extension": ".py",
   "mimetype": "text/x-python",
   "name": "python",
   "nbconvert_exporter": "python",
   "pygments_lexer": "ipython3",
   "version": "3.11.7"
  }
 },
 "nbformat": 4,
 "nbformat_minor": 5
}
