{
 "cells": [
  {
   "cell_type": "markdown",
   "id": "65914d6b-ebdd-42fe-8c05-761cfdd83d5f",
   "metadata": {},
   "source": [
    "36. OSY AXIS "
   ]
  },
  {
   "cell_type": "code",
   "execution_count": 2,
   "id": "18df72e6-bbe0-4d12-b2ef-d348cd9d3541",
   "metadata": {},
   "outputs": [],
   "source": [
    "import pandas as pd"
   ]
  },
  {
   "cell_type": "code",
   "execution_count": 4,
   "id": "315cc336-8513-4df6-8fe4-5e241e70c1e2",
   "metadata": {},
   "outputs": [],
   "source": [
    "bank_users = pd.read_csv('bank_users.csv')"
   ]
  },
  {
   "cell_type": "code",
   "execution_count": 6,
   "id": "6636de7c-2c9b-4c25-a9da-2294eb4be777",
   "metadata": {},
   "outputs": [
    {
     "data": {
      "text/html": [
       "<div>\n",
       "<style scoped>\n",
       "    .dataframe tbody tr th:only-of-type {\n",
       "        vertical-align: middle;\n",
       "    }\n",
       "\n",
       "    .dataframe tbody tr th {\n",
       "        vertical-align: top;\n",
       "    }\n",
       "\n",
       "    .dataframe thead th {\n",
       "        text-align: right;\n",
       "    }\n",
       "</style>\n",
       "<table border=\"1\" class=\"dataframe\">\n",
       "  <thead>\n",
       "    <tr style=\"text-align: right;\">\n",
       "      <th></th>\n",
       "      <th>first_name</th>\n",
       "      <th>last_name</th>\n",
       "      <th>email</th>\n",
       "      <th>bank_account</th>\n",
       "      <th>born_year</th>\n",
       "      <th>city</th>\n",
       "    </tr>\n",
       "  </thead>\n",
       "  <tbody>\n",
       "    <tr>\n",
       "      <th>0</th>\n",
       "      <td>Shawn</td>\n",
       "      <td>Gotts</td>\n",
       "      <td>sgotts0@newsvine.com</td>\n",
       "      <td>58.0</td>\n",
       "      <td>NaN</td>\n",
       "      <td>Jinchuan</td>\n",
       "    </tr>\n",
       "    <tr>\n",
       "      <th>1</th>\n",
       "      <td>Sergeant</td>\n",
       "      <td>Linsey</td>\n",
       "      <td>slinsey1@qq.com</td>\n",
       "      <td>70.0</td>\n",
       "      <td>2007.0</td>\n",
       "      <td>Tāngāil</td>\n",
       "    </tr>\n",
       "    <tr>\n",
       "      <th>2</th>\n",
       "      <td>Ambrosio</td>\n",
       "      <td>Gorton</td>\n",
       "      <td>agorton2@google.es</td>\n",
       "      <td>48.0</td>\n",
       "      <td>2000.0</td>\n",
       "      <td>Zhushan Chengguanzhen</td>\n",
       "    </tr>\n",
       "    <tr>\n",
       "      <th>3</th>\n",
       "      <td>Gram</td>\n",
       "      <td>Steanyng</td>\n",
       "      <td>gsteanyng3@google.fr</td>\n",
       "      <td>92.0</td>\n",
       "      <td>1970.0</td>\n",
       "      <td>Hongxing</td>\n",
       "    </tr>\n",
       "    <tr>\n",
       "      <th>4</th>\n",
       "      <td>Britt</td>\n",
       "      <td>Cockaday</td>\n",
       "      <td>bcockaday4@t.co</td>\n",
       "      <td>78.0</td>\n",
       "      <td>1985.0</td>\n",
       "      <td>Nangabulik</td>\n",
       "    </tr>\n",
       "    <tr>\n",
       "      <th>...</th>\n",
       "      <td>...</td>\n",
       "      <td>...</td>\n",
       "      <td>...</td>\n",
       "      <td>...</td>\n",
       "      <td>...</td>\n",
       "      <td>...</td>\n",
       "    </tr>\n",
       "    <tr>\n",
       "      <th>195</th>\n",
       "      <td>Franz</td>\n",
       "      <td>Oppy</td>\n",
       "      <td>foppy5f@shutterfly.com</td>\n",
       "      <td>90.0</td>\n",
       "      <td>2020.0</td>\n",
       "      <td>Bílina Kyselka</td>\n",
       "    </tr>\n",
       "    <tr>\n",
       "      <th>196</th>\n",
       "      <td>Adolphus</td>\n",
       "      <td>Labbati</td>\n",
       "      <td>alabbati5g@yellowbook.com</td>\n",
       "      <td>56.0</td>\n",
       "      <td>1984.0</td>\n",
       "      <td>Berlin</td>\n",
       "    </tr>\n",
       "    <tr>\n",
       "      <th>197</th>\n",
       "      <td>Aurelea</td>\n",
       "      <td>Cordery</td>\n",
       "      <td>acordery5h@furl.net</td>\n",
       "      <td>NaN</td>\n",
       "      <td>1992.0</td>\n",
       "      <td>Veshnyaki</td>\n",
       "    </tr>\n",
       "    <tr>\n",
       "      <th>198</th>\n",
       "      <td>Armstrong</td>\n",
       "      <td>Laughren</td>\n",
       "      <td>alaughren5i@yahoo.co.jp</td>\n",
       "      <td>87.0</td>\n",
       "      <td>1983.0</td>\n",
       "      <td>Detik Satu</td>\n",
       "    </tr>\n",
       "    <tr>\n",
       "      <th>199</th>\n",
       "      <td>Henrietta</td>\n",
       "      <td>Peckitt</td>\n",
       "      <td>hpeckitt5j@multiply.com</td>\n",
       "      <td>NaN</td>\n",
       "      <td>1967.0</td>\n",
       "      <td>Phú Lộc</td>\n",
       "    </tr>\n",
       "  </tbody>\n",
       "</table>\n",
       "<p>200 rows × 6 columns</p>\n",
       "</div>"
      ],
      "text/plain": [
       "    first_name last_name                      email  bank_account  born_year  \\\n",
       "0        Shawn     Gotts       sgotts0@newsvine.com          58.0        NaN   \n",
       "1     Sergeant    Linsey            slinsey1@qq.com          70.0     2007.0   \n",
       "2     Ambrosio    Gorton         agorton2@google.es          48.0     2000.0   \n",
       "3         Gram  Steanyng       gsteanyng3@google.fr          92.0     1970.0   \n",
       "4        Britt  Cockaday            bcockaday4@t.co          78.0     1985.0   \n",
       "..         ...       ...                        ...           ...        ...   \n",
       "195      Franz      Oppy     foppy5f@shutterfly.com          90.0     2020.0   \n",
       "196   Adolphus   Labbati  alabbati5g@yellowbook.com          56.0     1984.0   \n",
       "197    Aurelea   Cordery        acordery5h@furl.net           NaN     1992.0   \n",
       "198  Armstrong  Laughren    alaughren5i@yahoo.co.jp          87.0     1983.0   \n",
       "199  Henrietta   Peckitt    hpeckitt5j@multiply.com           NaN     1967.0   \n",
       "\n",
       "                      city  \n",
       "0                 Jinchuan  \n",
       "1                  Tāngāil  \n",
       "2    Zhushan Chengguanzhen  \n",
       "3                 Hongxing  \n",
       "4               Nangabulik  \n",
       "..                     ...  \n",
       "195         Bílina Kyselka  \n",
       "196                 Berlin  \n",
       "197              Veshnyaki  \n",
       "198             Detik Satu  \n",
       "199                Phú Lộc  \n",
       "\n",
       "[200 rows x 6 columns]"
      ]
     },
     "execution_count": 6,
     "metadata": {},
     "output_type": "execute_result"
    }
   ],
   "source": [
    "bank_users"
   ]
  },
  {
   "cell_type": "code",
   "execution_count": 10,
   "id": "52a52ac3-0140-4474-a2de-a0dd6f9b1435",
   "metadata": {},
   "outputs": [
    {
     "data": {
      "text/plain": [
       "0    10\n",
       "1    20\n",
       "2    30\n",
       "dtype: int64"
      ]
     },
     "execution_count": 10,
     "metadata": {},
     "output_type": "execute_result"
    }
   ],
   "source": [
    "my_series = pd.Series([10, 20, 30])\n",
    "my_series"
   ]
  },
  {
   "cell_type": "code",
   "execution_count": 12,
   "id": "dd23c426-1897-4b62-81ae-7a7fe5cbd420",
   "metadata": {},
   "outputs": [
    {
     "data": {
      "text/plain": [
       "60"
      ]
     },
     "execution_count": 12,
     "metadata": {},
     "output_type": "execute_result"
    }
   ],
   "source": [
    "my_series.sum()"
   ]
  },
  {
   "cell_type": "code",
   "execution_count": 16,
   "id": "f3e3f24a-14b1-437f-afea-92ccf61044f3",
   "metadata": {},
   "outputs": [
    {
     "data": {
      "text/html": [
       "<div>\n",
       "<style scoped>\n",
       "    .dataframe tbody tr th:only-of-type {\n",
       "        vertical-align: middle;\n",
       "    }\n",
       "\n",
       "    .dataframe tbody tr th {\n",
       "        vertical-align: top;\n",
       "    }\n",
       "\n",
       "    .dataframe thead th {\n",
       "        text-align: right;\n",
       "    }\n",
       "</style>\n",
       "<table border=\"1\" class=\"dataframe\">\n",
       "  <thead>\n",
       "    <tr style=\"text-align: right;\">\n",
       "      <th></th>\n",
       "      <th>bank_account</th>\n",
       "      <th>born_year</th>\n",
       "    </tr>\n",
       "  </thead>\n",
       "  <tbody>\n",
       "    <tr>\n",
       "      <th>0</th>\n",
       "      <td>58.0</td>\n",
       "      <td>NaN</td>\n",
       "    </tr>\n",
       "    <tr>\n",
       "      <th>1</th>\n",
       "      <td>70.0</td>\n",
       "      <td>2007.0</td>\n",
       "    </tr>\n",
       "    <tr>\n",
       "      <th>2</th>\n",
       "      <td>48.0</td>\n",
       "      <td>2000.0</td>\n",
       "    </tr>\n",
       "    <tr>\n",
       "      <th>3</th>\n",
       "      <td>92.0</td>\n",
       "      <td>1970.0</td>\n",
       "    </tr>\n",
       "    <tr>\n",
       "      <th>4</th>\n",
       "      <td>78.0</td>\n",
       "      <td>1985.0</td>\n",
       "    </tr>\n",
       "    <tr>\n",
       "      <th>...</th>\n",
       "      <td>...</td>\n",
       "      <td>...</td>\n",
       "    </tr>\n",
       "    <tr>\n",
       "      <th>195</th>\n",
       "      <td>90.0</td>\n",
       "      <td>2020.0</td>\n",
       "    </tr>\n",
       "    <tr>\n",
       "      <th>196</th>\n",
       "      <td>56.0</td>\n",
       "      <td>1984.0</td>\n",
       "    </tr>\n",
       "    <tr>\n",
       "      <th>197</th>\n",
       "      <td>NaN</td>\n",
       "      <td>1992.0</td>\n",
       "    </tr>\n",
       "    <tr>\n",
       "      <th>198</th>\n",
       "      <td>87.0</td>\n",
       "      <td>1983.0</td>\n",
       "    </tr>\n",
       "    <tr>\n",
       "      <th>199</th>\n",
       "      <td>NaN</td>\n",
       "      <td>1967.0</td>\n",
       "    </tr>\n",
       "  </tbody>\n",
       "</table>\n",
       "<p>200 rows × 2 columns</p>\n",
       "</div>"
      ],
      "text/plain": [
       "     bank_account  born_year\n",
       "0            58.0        NaN\n",
       "1            70.0     2007.0\n",
       "2            48.0     2000.0\n",
       "3            92.0     1970.0\n",
       "4            78.0     1985.0\n",
       "..            ...        ...\n",
       "195          90.0     2020.0\n",
       "196          56.0     1984.0\n",
       "197           NaN     1992.0\n",
       "198          87.0     1983.0\n",
       "199           NaN     1967.0\n",
       "\n",
       "[200 rows x 2 columns]"
      ]
     },
     "execution_count": 16,
     "metadata": {},
     "output_type": "execute_result"
    }
   ],
   "source": [
    "bank_users_bc_y = bank_users[['bank_account', 'born_year']]\n",
    "bank_users_bc_y"
   ]
  },
  {
   "cell_type": "code",
   "execution_count": 18,
   "id": "0485ab8d-7e0b-4098-9248-9aab45b7e9ab",
   "metadata": {},
   "outputs": [
    {
     "data": {
      "text/plain": [
       "bank_account     10088.0\n",
       "born_year       349768.0\n",
       "dtype: float64"
      ]
     },
     "execution_count": 18,
     "metadata": {},
     "output_type": "execute_result"
    }
   ],
   "source": [
    "bank_users_bc_y.sum()"
   ]
  },
  {
   "cell_type": "code",
   "execution_count": 20,
   "id": "b0a57d4d-543c-4891-8395-85765b2e98ca",
   "metadata": {},
   "outputs": [
    {
     "data": {
      "text/plain": [
       "0        58.0\n",
       "1      2077.0\n",
       "2      2048.0\n",
       "3      2062.0\n",
       "4      2063.0\n",
       "        ...  \n",
       "195    2110.0\n",
       "196    2040.0\n",
       "197    1992.0\n",
       "198    2070.0\n",
       "199    1967.0\n",
       "Length: 200, dtype: float64"
      ]
     },
     "execution_count": 20,
     "metadata": {},
     "output_type": "execute_result"
    }
   ],
   "source": [
    "bank_users_bc_y.sum(1)"
   ]
  },
  {
   "cell_type": "code",
   "execution_count": 24,
   "id": "235bb136-bd57-476f-9a67-0d1920c0e75b",
   "metadata": {},
   "outputs": [
    {
     "data": {
      "text/plain": [
       "bank_account     10088.0\n",
       "born_year       349768.0\n",
       "dtype: float64"
      ]
     },
     "execution_count": 24,
     "metadata": {},
     "output_type": "execute_result"
    }
   ],
   "source": [
    "bank_users_bc_y.sum(axis='index')"
   ]
  },
  {
   "cell_type": "code",
   "execution_count": 26,
   "id": "3066f58c-288e-42df-aae8-0d1fdf77b539",
   "metadata": {},
   "outputs": [
    {
     "data": {
      "text/plain": [
       "0        58.0\n",
       "1      2077.0\n",
       "2      2048.0\n",
       "3      2062.0\n",
       "4      2063.0\n",
       "        ...  \n",
       "195    2110.0\n",
       "196    2040.0\n",
       "197    1992.0\n",
       "198    2070.0\n",
       "199    1967.0\n",
       "Length: 200, dtype: float64"
      ]
     },
     "execution_count": 26,
     "metadata": {},
     "output_type": "execute_result"
    }
   ],
   "source": [
    "bank_users_bc_y.sum(axis='columns')"
   ]
  },
  {
   "cell_type": "code",
   "execution_count": 34,
   "id": "7088d8af-046f-459b-9fb7-5a777da1e55f",
   "metadata": {},
   "outputs": [
    {
     "data": {
      "text/plain": [
       "60"
      ]
     },
     "execution_count": 34,
     "metadata": {},
     "output_type": "execute_result"
    }
   ],
   "source": [
    "my_series.sum(axis=0) # axis 1 nemuze protoze nejsou 2 sloupce!"
   ]
  },
  {
   "cell_type": "code",
   "execution_count": null,
   "id": "7c3ab20f-8dd1-4d94-a2de-5cc94ccc433e",
   "metadata": {},
   "outputs": [],
   "source": []
  }
 ],
 "metadata": {
  "kernelspec": {
   "display_name": "Python 3 (ipykernel)",
   "language": "python",
   "name": "python3"
  },
  "language_info": {
   "codemirror_mode": {
    "name": "ipython",
    "version": 3
   },
   "file_extension": ".py",
   "mimetype": "text/x-python",
   "name": "python",
   "nbconvert_exporter": "python",
   "pygments_lexer": "ipython3",
   "version": "3.11.7"
  }
 },
 "nbformat": 4,
 "nbformat_minor": 5
}
