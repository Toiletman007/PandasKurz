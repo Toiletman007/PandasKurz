{
 "cells": [
  {
   "cell_type": "code",
   "execution_count": 1,
   "id": "58304274-722a-4f93-84a5-2a3690b8fb06",
   "metadata": {},
   "outputs": [],
   "source": [
    "import pandas as pd"
   ]
  },
  {
   "cell_type": "code",
   "execution_count": 3,
   "id": "b57915e6-1e15-4a5b-b64c-ec109608650f",
   "metadata": {},
   "outputs": [],
   "source": [
    "bank_users = pd.read_csv('bank_users.csv')"
   ]
  },
  {
   "cell_type": "code",
   "execution_count": 11,
   "id": "a7f7bc61-e83c-4110-9956-8fbd2529e80e",
   "metadata": {},
   "outputs": [
    {
     "data": {
      "text/plain": [
       "174     2.0\n",
       "34      2.0\n",
       "65      2.0\n",
       "125     4.5\n",
       "89      4.5\n",
       "73      6.0\n",
       "170     7.5\n",
       "67      7.5\n",
       "128     9.5\n",
       "115     9.5\n",
       "95     11.5\n",
       "76     11.5\n",
       "186    13.5\n",
       "24     13.5\n",
       "179    17.0\n",
       "161    17.0\n",
       "177    17.0\n",
       "165    17.0\n",
       "163    17.0\n",
       "188    20.0\n",
       "Name: bank_account, dtype: float64"
      ]
     },
     "execution_count": 11,
     "metadata": {},
     "output_type": "execute_result"
    }
   ],
   "source": [
    "bank_users.bank_account.rank().sort_values().head(20)"
   ]
  },
  {
   "cell_type": "code",
   "execution_count": null,
   "id": "ea7986da-fe10-46b3-bf27-c45f4586d6ed",
   "metadata": {},
   "outputs": [],
   "source": []
  }
 ],
 "metadata": {
  "kernelspec": {
   "display_name": "Python 3 (ipykernel)",
   "language": "python",
   "name": "python3"
  },
  "language_info": {
   "codemirror_mode": {
    "name": "ipython",
    "version": 3
   },
   "file_extension": ".py",
   "mimetype": "text/x-python",
   "name": "python",
   "nbconvert_exporter": "python",
   "pygments_lexer": "ipython3",
   "version": "3.11.7"
  }
 },
 "nbformat": 4,
 "nbformat_minor": 5
}
