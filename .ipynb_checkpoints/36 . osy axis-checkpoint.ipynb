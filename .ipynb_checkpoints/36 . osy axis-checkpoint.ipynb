{
 "cells": [
  {
   "cell_type": "markdown",
   "id": "65914d6b-ebdd-42fe-8c05-761cfdd83d5f",
   "metadata": {},
   "source": [
    "36. OSY AXIS "
   ]
  },
  {
   "cell_type": "code",
   "execution_count": null,
   "id": "18df72e6-bbe0-4d12-b2ef-d348cd9d3541",
   "metadata": {},
   "outputs": [],
   "source": []
  }
 ],
 "metadata": {
  "kernelspec": {
   "display_name": "Python 3 (ipykernel)",
   "language": "python",
   "name": "python3"
  },
  "language_info": {
   "codemirror_mode": {
    "name": "ipython",
    "version": 3
   },
   "file_extension": ".py",
   "mimetype": "text/x-python",
   "name": "python",
   "nbconvert_exporter": "python",
   "pygments_lexer": "ipython3",
   "version": "3.11.7"
  }
 },
 "nbformat": 4,
 "nbformat_minor": 5
}
