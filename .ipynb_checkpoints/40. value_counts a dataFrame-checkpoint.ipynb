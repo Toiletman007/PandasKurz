{
 "cells": [
  {
   "cell_type": "code",
   "execution_count": 1,
   "id": "e26f1e8e-e21a-4251-85f0-ff2daf90a68c",
   "metadata": {},
   "outputs": [],
   "source": [
    "import pandas as pd"
   ]
  },
  {
   "cell_type": "code",
   "execution_count": 3,
   "id": "1699dcfe-e021-4b78-8342-c6c67886e669",
   "metadata": {},
   "outputs": [
    {
     "data": {
      "text/html": [
       "<div>\n",
       "<style scoped>\n",
       "    .dataframe tbody tr th:only-of-type {\n",
       "        vertical-align: middle;\n",
       "    }\n",
       "\n",
       "    .dataframe tbody tr th {\n",
       "        vertical-align: top;\n",
       "    }\n",
       "\n",
       "    .dataframe thead th {\n",
       "        text-align: right;\n",
       "    }\n",
       "</style>\n",
       "<table border=\"1\" class=\"dataframe\">\n",
       "  <thead>\n",
       "    <tr style=\"text-align: right;\">\n",
       "      <th></th>\n",
       "      <th>brokered_by</th>\n",
       "      <th>status</th>\n",
       "      <th>price</th>\n",
       "      <th>bed</th>\n",
       "      <th>bath</th>\n",
       "      <th>acre_lot</th>\n",
       "      <th>street</th>\n",
       "      <th>city</th>\n",
       "      <th>state</th>\n",
       "      <th>zip_code</th>\n",
       "      <th>house_size</th>\n",
       "      <th>prev_sold_date</th>\n",
       "    </tr>\n",
       "  </thead>\n",
       "  <tbody>\n",
       "    <tr>\n",
       "      <th>0</th>\n",
       "      <td>103378.0</td>\n",
       "      <td>for_sale</td>\n",
       "      <td>105000.0</td>\n",
       "      <td>3.0</td>\n",
       "      <td>2.0</td>\n",
       "      <td>0.12</td>\n",
       "      <td>1962661.0</td>\n",
       "      <td>Adjuntas</td>\n",
       "      <td>Puerto Rico</td>\n",
       "      <td>601.0</td>\n",
       "      <td>920.0</td>\n",
       "      <td>NaN</td>\n",
       "    </tr>\n",
       "    <tr>\n",
       "      <th>1</th>\n",
       "      <td>52707.0</td>\n",
       "      <td>for_sale</td>\n",
       "      <td>80000.0</td>\n",
       "      <td>4.0</td>\n",
       "      <td>2.0</td>\n",
       "      <td>0.08</td>\n",
       "      <td>1902874.0</td>\n",
       "      <td>Adjuntas</td>\n",
       "      <td>Puerto Rico</td>\n",
       "      <td>601.0</td>\n",
       "      <td>1527.0</td>\n",
       "      <td>NaN</td>\n",
       "    </tr>\n",
       "    <tr>\n",
       "      <th>2</th>\n",
       "      <td>103379.0</td>\n",
       "      <td>for_sale</td>\n",
       "      <td>67000.0</td>\n",
       "      <td>2.0</td>\n",
       "      <td>1.0</td>\n",
       "      <td>0.15</td>\n",
       "      <td>1404990.0</td>\n",
       "      <td>Juana Diaz</td>\n",
       "      <td>Puerto Rico</td>\n",
       "      <td>795.0</td>\n",
       "      <td>748.0</td>\n",
       "      <td>NaN</td>\n",
       "    </tr>\n",
       "  </tbody>\n",
       "</table>\n",
       "</div>"
      ],
      "text/plain": [
       "   brokered_by    status     price  bed  bath  acre_lot     street  \\\n",
       "0     103378.0  for_sale  105000.0  3.0   2.0      0.12  1962661.0   \n",
       "1      52707.0  for_sale   80000.0  4.0   2.0      0.08  1902874.0   \n",
       "2     103379.0  for_sale   67000.0  2.0   1.0      0.15  1404990.0   \n",
       "\n",
       "         city        state  zip_code  house_size prev_sold_date  \n",
       "0    Adjuntas  Puerto Rico     601.0       920.0            NaN  \n",
       "1    Adjuntas  Puerto Rico     601.0      1527.0            NaN  \n",
       "2  Juana Diaz  Puerto Rico     795.0       748.0            NaN  "
      ]
     },
     "execution_count": 3,
     "metadata": {},
     "output_type": "execute_result"
    }
   ],
   "source": [
    "reality = pd.read_csv('reality.csv')\n",
    "reality.head(3)"
   ]
  },
  {
   "cell_type": "code",
   "execution_count": 9,
   "id": "487f48f2-625b-435e-91b4-9657e121c8ee",
   "metadata": {},
   "outputs": [
    {
     "data": {
      "text/plain": [
       "state\n",
       "Massachusetts     10188\n",
       "Maine              5012\n",
       "Connecticut        4455\n",
       "New Hampshire      3562\n",
       "Rhode Island       3417\n",
       "Puerto Rico        2664\n",
       "New York            866\n",
       "Virgin Islands      750\n",
       "Vermont             689\n",
       "Virginia              2\n",
       "New Jersey            1\n",
       "South Carolina        1\n",
       "Tennessee             1\n",
       "Wyoming               1\n",
       "Name: count, dtype: int64"
      ]
     },
     "execution_count": 9,
     "metadata": {},
     "output_type": "execute_result"
    }
   ],
   "source": [
    "reality['state'].value_counts()"
   ]
  },
  {
   "cell_type": "code",
   "execution_count": 41,
   "id": "0f972607-4700-4425-be67-a6062e882677",
   "metadata": {},
   "outputs": [
    {
     "data": {
      "text/plain": [
       "bath\n",
       "1.0      4737\n",
       "2.0      8975\n",
       "3.0      5899\n",
       "4.0      2015\n",
       "5.0       780\n",
       "6.0       393\n",
       "7.0       185\n",
       "8.0       124\n",
       "9.0        72\n",
       "10.0       47\n",
       "11.0       16\n",
       "12.0       15\n",
       "13.0        9\n",
       "14.0        6\n",
       "15.0        7\n",
       "16.0        7\n",
       "17.0        3\n",
       "18.0        3\n",
       "19.0        2\n",
       "20.0        6\n",
       "22.0        1\n",
       "25.0        1\n",
       "27.0        1\n",
       "28.0        1\n",
       "29.0        1\n",
       "30.0        1\n",
       "33.0        1\n",
       "35.0        1\n",
       "36.0        1\n",
       "42.0        1\n",
       "51.0        1\n",
       "56.0        1\n",
       "198.0       1\n",
       "Name: count, dtype: int64"
      ]
     },
     "execution_count": 41,
     "metadata": {},
     "output_type": "execute_result"
    }
   ],
   "source": [
    "reality.bath.value_counts().sort_index()"
   ]
  },
  {
   "cell_type": "code",
   "execution_count": 43,
   "id": "775c28d5-ab9d-42fd-bf6c-d6c39e29707c",
   "metadata": {},
   "outputs": [
    {
     "data": {
      "text/plain": [
       "198.0"
      ]
     },
     "execution_count": 43,
     "metadata": {},
     "output_type": "execute_result"
    }
   ],
   "source": [
    "reality['bath'].max()"
   ]
  },
  {
   "cell_type": "code",
   "execution_count": 47,
   "id": "f8630813-9ade-4cda-89bb-10fd179bfc94",
   "metadata": {},
   "outputs": [
    {
     "data": {
      "text/plain": [
       "198.0"
      ]
     },
     "execution_count": 47,
     "metadata": {},
     "output_type": "execute_result"
    }
   ],
   "source": [
    "reality.bath.max()"
   ]
  },
  {
   "cell_type": "code",
   "execution_count": 53,
   "id": "3befeb33-b2f1-434e-94bf-659a60cf83fd",
   "metadata": {},
   "outputs": [
    {
     "data": {
      "text/plain": [
       "bath\n",
       "2.0      38.496183\n",
       "3.0      25.302393\n",
       "1.0      20.318264\n",
       "4.0       8.642876\n",
       "5.0       3.345629\n",
       "6.0       1.685682\n",
       "7.0       0.793515\n",
       "8.0       0.531869\n",
       "9.0       0.308827\n",
       "10.0      0.201596\n",
       "11.0      0.068628\n",
       "12.0      0.064339\n",
       "13.0      0.038603\n",
       "16.0      0.030025\n",
       "15.0      0.030025\n",
       "14.0      0.025736\n",
       "20.0      0.025736\n",
       "17.0      0.012868\n",
       "18.0      0.012868\n",
       "19.0      0.008579\n",
       "36.0      0.004289\n",
       "25.0      0.004289\n",
       "35.0      0.004289\n",
       "56.0      0.004289\n",
       "42.0      0.004289\n",
       "51.0      0.004289\n",
       "28.0      0.004289\n",
       "198.0     0.004289\n",
       "22.0      0.004289\n",
       "33.0      0.004289\n",
       "27.0      0.004289\n",
       "30.0      0.004289\n",
       "29.0      0.004289\n",
       "Name: proportion, dtype: float64"
      ]
     },
     "execution_count": 53,
     "metadata": {},
     "output_type": "execute_result"
    }
   ],
   "source": [
    "reality.bath.value_counts(normalize=True)*100"
   ]
  },
  {
   "cell_type": "code",
   "execution_count": null,
   "id": "97edeff8-0a8d-4d1d-adaa-d87ffa45d93b",
   "metadata": {},
   "outputs": [],
   "source": []
  }
 ],
 "metadata": {
  "kernelspec": {
   "display_name": "Python 3 (ipykernel)",
   "language": "python",
   "name": "python3"
  },
  "language_info": {
   "codemirror_mode": {
    "name": "ipython",
    "version": 3
   },
   "file_extension": ".py",
   "mimetype": "text/x-python",
   "name": "python",
   "nbconvert_exporter": "python",
   "pygments_lexer": "ipython3",
   "version": "3.11.7"
  }
 },
 "nbformat": 4,
 "nbformat_minor": 5
}
