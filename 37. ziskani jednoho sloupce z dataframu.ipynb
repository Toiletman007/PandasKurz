{
 "cells": [
  {
   "cell_type": "code",
   "execution_count": 1,
   "id": "594a3cd6-6ea2-41d1-9fbc-c1cd5822260d",
   "metadata": {},
   "outputs": [],
   "source": [
    "import pandas as pd"
   ]
  },
  {
   "cell_type": "code",
   "execution_count": 5,
   "id": "2a977bfa-2166-4952-91f8-9fa9a99974fb",
   "metadata": {},
   "outputs": [
    {
     "data": {
      "text/html": [
       "<div>\n",
       "<style scoped>\n",
       "    .dataframe tbody tr th:only-of-type {\n",
       "        vertical-align: middle;\n",
       "    }\n",
       "\n",
       "    .dataframe tbody tr th {\n",
       "        vertical-align: top;\n",
       "    }\n",
       "\n",
       "    .dataframe thead th {\n",
       "        text-align: right;\n",
       "    }\n",
       "</style>\n",
       "<table border=\"1\" class=\"dataframe\">\n",
       "  <thead>\n",
       "    <tr style=\"text-align: right;\">\n",
       "      <th></th>\n",
       "      <th>first_name</th>\n",
       "      <th>last_name</th>\n",
       "      <th>email</th>\n",
       "      <th>bank_account</th>\n",
       "      <th>born_year</th>\n",
       "      <th>city</th>\n",
       "    </tr>\n",
       "  </thead>\n",
       "  <tbody>\n",
       "    <tr>\n",
       "      <th>0</th>\n",
       "      <td>Shawn</td>\n",
       "      <td>Gotts</td>\n",
       "      <td>sgotts0@newsvine.com</td>\n",
       "      <td>58.0</td>\n",
       "      <td>NaN</td>\n",
       "      <td>Jinchuan</td>\n",
       "    </tr>\n",
       "    <tr>\n",
       "      <th>1</th>\n",
       "      <td>Sergeant</td>\n",
       "      <td>Linsey</td>\n",
       "      <td>slinsey1@qq.com</td>\n",
       "      <td>70.0</td>\n",
       "      <td>2007.0</td>\n",
       "      <td>Tāngāil</td>\n",
       "    </tr>\n",
       "    <tr>\n",
       "      <th>2</th>\n",
       "      <td>Ambrosio</td>\n",
       "      <td>Gorton</td>\n",
       "      <td>agorton2@google.es</td>\n",
       "      <td>48.0</td>\n",
       "      <td>2000.0</td>\n",
       "      <td>Zhushan Chengguanzhen</td>\n",
       "    </tr>\n",
       "  </tbody>\n",
       "</table>\n",
       "</div>"
      ],
      "text/plain": [
       "  first_name last_name                 email  bank_account  born_year  \\\n",
       "0      Shawn     Gotts  sgotts0@newsvine.com          58.0        NaN   \n",
       "1   Sergeant    Linsey       slinsey1@qq.com          70.0     2007.0   \n",
       "2   Ambrosio    Gorton    agorton2@google.es          48.0     2000.0   \n",
       "\n",
       "                    city  \n",
       "0               Jinchuan  \n",
       "1                Tāngāil  \n",
       "2  Zhushan Chengguanzhen  "
      ]
     },
     "execution_count": 5,
     "metadata": {},
     "output_type": "execute_result"
    }
   ],
   "source": [
    "bank_users = pd.read_csv('bank_users.csv')\n",
    "bank_users.head(3)"
   ]
  },
  {
   "cell_type": "code",
   "execution_count": 9,
   "id": "bafb2bec-76eb-4895-b10d-3c4b6f662972",
   "metadata": {},
   "outputs": [
    {
     "data": {
      "text/plain": [
       "0         Gotts\n",
       "1        Linsey\n",
       "2        Gorton\n",
       "3      Steanyng\n",
       "4      Cockaday\n",
       "         ...   \n",
       "195        Oppy\n",
       "196     Labbati\n",
       "197     Cordery\n",
       "198    Laughren\n",
       "199     Peckitt\n",
       "Name: last_name, Length: 200, dtype: object"
      ]
     },
     "execution_count": 9,
     "metadata": {},
     "output_type": "execute_result"
    }
   ],
   "source": [
    "bank_users.last_name"
   ]
  },
  {
   "cell_type": "code",
   "execution_count": 11,
   "id": "e46dbe5b-1e62-4d1f-a6d3-ec94dcc38594",
   "metadata": {},
   "outputs": [
    {
     "data": {
      "text/plain": [
       "0         Gotts\n",
       "1        Linsey\n",
       "2        Gorton\n",
       "3      Steanyng\n",
       "4      Cockaday\n",
       "         ...   \n",
       "195        Oppy\n",
       "196     Labbati\n",
       "197     Cordery\n",
       "198    Laughren\n",
       "199     Peckitt\n",
       "Name: last_name, Length: 200, dtype: object"
      ]
     },
     "execution_count": 11,
     "metadata": {},
     "output_type": "execute_result"
    }
   ],
   "source": [
    "bank_users['last_name']"
   ]
  },
  {
   "cell_type": "code",
   "execution_count": 13,
   "id": "1ea38d32-b9f4-4bd2-8c49-4540a10bbdc4",
   "metadata": {},
   "outputs": [],
   "source": [
    "last_names = bank_users.last_name\n",
    "last_names\n",
    "#view na dataframe"
   ]
  },
  {
   "cell_type": "code",
   "execution_count": 19,
   "id": "0a5b55e8-75e1-46f2-9b81-0d5e011e92c5",
   "metadata": {},
   "outputs": [
    {
     "name": "stderr",
     "output_type": "stream",
     "text": [
      "C:\\Users\\copak\\AppData\\Local\\Temp\\ipykernel_14928\\1348655734.py:1: SettingWithCopyWarning: \n",
      "A value is trying to be set on a copy of a slice from a DataFrame\n",
      "\n",
      "See the caveats in the documentation: https://pandas.pydata.org/pandas-docs/stable/user_guide/indexing.html#returning-a-view-versus-a-copy\n",
      "  last_names[0] = 'gggg'\n"
     ]
    },
    {
     "data": {
      "text/plain": [
       "0          gggg\n",
       "1        Linsey\n",
       "2        Gorton\n",
       "3      Steanyng\n",
       "4      Cockaday\n",
       "         ...   \n",
       "195        Oppy\n",
       "196     Labbati\n",
       "197     Cordery\n",
       "198    Laughren\n",
       "199     Peckitt\n",
       "Name: last_name, Length: 200, dtype: object"
      ]
     },
     "execution_count": 19,
     "metadata": {},
     "output_type": "execute_result"
    }
   ],
   "source": [
    "last_names[0] = 'gggg'\n",
    "last_names"
   ]
  },
  {
   "cell_type": "code",
   "execution_count": 23,
   "id": "4223acc8-4744-4c3f-8d47-5a04d034613f",
   "metadata": {},
   "outputs": [
    {
     "data": {
      "text/html": [
       "<div>\n",
       "<style scoped>\n",
       "    .dataframe tbody tr th:only-of-type {\n",
       "        vertical-align: middle;\n",
       "    }\n",
       "\n",
       "    .dataframe tbody tr th {\n",
       "        vertical-align: top;\n",
       "    }\n",
       "\n",
       "    .dataframe thead th {\n",
       "        text-align: right;\n",
       "    }\n",
       "</style>\n",
       "<table border=\"1\" class=\"dataframe\">\n",
       "  <thead>\n",
       "    <tr style=\"text-align: right;\">\n",
       "      <th></th>\n",
       "      <th>first_name</th>\n",
       "      <th>last_name</th>\n",
       "      <th>email</th>\n",
       "      <th>bank_account</th>\n",
       "      <th>born_year</th>\n",
       "      <th>city</th>\n",
       "    </tr>\n",
       "  </thead>\n",
       "  <tbody>\n",
       "    <tr>\n",
       "      <th>0</th>\n",
       "      <td>Shawn</td>\n",
       "      <td>gggg</td>\n",
       "      <td>sgotts0@newsvine.com</td>\n",
       "      <td>58.0</td>\n",
       "      <td>NaN</td>\n",
       "      <td>Jinchuan</td>\n",
       "    </tr>\n",
       "    <tr>\n",
       "      <th>1</th>\n",
       "      <td>Sergeant</td>\n",
       "      <td>Linsey</td>\n",
       "      <td>slinsey1@qq.com</td>\n",
       "      <td>70.0</td>\n",
       "      <td>2007.0</td>\n",
       "      <td>Tāngāil</td>\n",
       "    </tr>\n",
       "    <tr>\n",
       "      <th>2</th>\n",
       "      <td>Ambrosio</td>\n",
       "      <td>Gorton</td>\n",
       "      <td>agorton2@google.es</td>\n",
       "      <td>48.0</td>\n",
       "      <td>2000.0</td>\n",
       "      <td>Zhushan Chengguanzhen</td>\n",
       "    </tr>\n",
       "    <tr>\n",
       "      <th>3</th>\n",
       "      <td>Gram</td>\n",
       "      <td>Steanyng</td>\n",
       "      <td>gsteanyng3@google.fr</td>\n",
       "      <td>92.0</td>\n",
       "      <td>1970.0</td>\n",
       "      <td>Hongxing</td>\n",
       "    </tr>\n",
       "    <tr>\n",
       "      <th>4</th>\n",
       "      <td>Britt</td>\n",
       "      <td>Cockaday</td>\n",
       "      <td>bcockaday4@t.co</td>\n",
       "      <td>78.0</td>\n",
       "      <td>1985.0</td>\n",
       "      <td>Nangabulik</td>\n",
       "    </tr>\n",
       "  </tbody>\n",
       "</table>\n",
       "</div>"
      ],
      "text/plain": [
       "  first_name last_name                 email  bank_account  born_year  \\\n",
       "0      Shawn      gggg  sgotts0@newsvine.com          58.0        NaN   \n",
       "1   Sergeant    Linsey       slinsey1@qq.com          70.0     2007.0   \n",
       "2   Ambrosio    Gorton    agorton2@google.es          48.0     2000.0   \n",
       "3       Gram  Steanyng  gsteanyng3@google.fr          92.0     1970.0   \n",
       "4      Britt  Cockaday       bcockaday4@t.co          78.0     1985.0   \n",
       "\n",
       "                    city  \n",
       "0               Jinchuan  \n",
       "1                Tāngāil  \n",
       "2  Zhushan Chengguanzhen  \n",
       "3               Hongxing  \n",
       "4             Nangabulik  "
      ]
     },
     "execution_count": 23,
     "metadata": {},
     "output_type": "execute_result"
    }
   ],
   "source": [
    "bank_users.head()"
   ]
  },
  {
   "cell_type": "code",
   "execution_count": 29,
   "id": "b0a311e3-2bd6-44d0-819e-0fb94721da3d",
   "metadata": {},
   "outputs": [
    {
     "data": {
      "text/plain": [
       "0         sugma\n",
       "1        Linsey\n",
       "2        Gorton\n",
       "3      Steanyng\n",
       "4      Cockaday\n",
       "         ...   \n",
       "195        Oppy\n",
       "196     Labbati\n",
       "197     Cordery\n",
       "198    Laughren\n",
       "199     Peckitt\n",
       "Name: last_name, Length: 200, dtype: object"
      ]
     },
     "execution_count": 29,
     "metadata": {},
     "output_type": "execute_result"
    }
   ],
   "source": [
    "last_names = bank_users.last_name.copy()\n",
    "last_names[0] = 'sugma'\n",
    "last_names"
   ]
  },
  {
   "cell_type": "code",
   "execution_count": 31,
   "id": "9b4eac1f-92af-400a-a096-63dcd7402cb3",
   "metadata": {},
   "outputs": [
    {
     "data": {
      "text/html": [
       "<div>\n",
       "<style scoped>\n",
       "    .dataframe tbody tr th:only-of-type {\n",
       "        vertical-align: middle;\n",
       "    }\n",
       "\n",
       "    .dataframe tbody tr th {\n",
       "        vertical-align: top;\n",
       "    }\n",
       "\n",
       "    .dataframe thead th {\n",
       "        text-align: right;\n",
       "    }\n",
       "</style>\n",
       "<table border=\"1\" class=\"dataframe\">\n",
       "  <thead>\n",
       "    <tr style=\"text-align: right;\">\n",
       "      <th></th>\n",
       "      <th>first_name</th>\n",
       "      <th>last_name</th>\n",
       "      <th>email</th>\n",
       "      <th>bank_account</th>\n",
       "      <th>born_year</th>\n",
       "      <th>city</th>\n",
       "    </tr>\n",
       "  </thead>\n",
       "  <tbody>\n",
       "    <tr>\n",
       "      <th>0</th>\n",
       "      <td>Shawn</td>\n",
       "      <td>gggg</td>\n",
       "      <td>sgotts0@newsvine.com</td>\n",
       "      <td>58.0</td>\n",
       "      <td>NaN</td>\n",
       "      <td>Jinchuan</td>\n",
       "    </tr>\n",
       "    <tr>\n",
       "      <th>1</th>\n",
       "      <td>Sergeant</td>\n",
       "      <td>Linsey</td>\n",
       "      <td>slinsey1@qq.com</td>\n",
       "      <td>70.0</td>\n",
       "      <td>2007.0</td>\n",
       "      <td>Tāngāil</td>\n",
       "    </tr>\n",
       "    <tr>\n",
       "      <th>2</th>\n",
       "      <td>Ambrosio</td>\n",
       "      <td>Gorton</td>\n",
       "      <td>agorton2@google.es</td>\n",
       "      <td>48.0</td>\n",
       "      <td>2000.0</td>\n",
       "      <td>Zhushan Chengguanzhen</td>\n",
       "    </tr>\n",
       "  </tbody>\n",
       "</table>\n",
       "</div>"
      ],
      "text/plain": [
       "  first_name last_name                 email  bank_account  born_year  \\\n",
       "0      Shawn      gggg  sgotts0@newsvine.com          58.0        NaN   \n",
       "1   Sergeant    Linsey       slinsey1@qq.com          70.0     2007.0   \n",
       "2   Ambrosio    Gorton    agorton2@google.es          48.0     2000.0   \n",
       "\n",
       "                    city  \n",
       "0               Jinchuan  \n",
       "1                Tāngāil  \n",
       "2  Zhushan Chengguanzhen  "
      ]
     },
     "execution_count": 31,
     "metadata": {},
     "output_type": "execute_result"
    }
   ],
   "source": [
    "bank_users.head(3)"
   ]
  },
  {
   "cell_type": "code",
   "execution_count": null,
   "id": "2784e6f2-5585-42f8-ba9c-045995f427c6",
   "metadata": {},
   "outputs": [],
   "source": []
  }
 ],
 "metadata": {
  "kernelspec": {
   "display_name": "Python 3 (ipykernel)",
   "language": "python",
   "name": "python3"
  },
  "language_info": {
   "codemirror_mode": {
    "name": "ipython",
    "version": 3
   },
   "file_extension": ".py",
   "mimetype": "text/x-python",
   "name": "python",
   "nbconvert_exporter": "python",
   "pygments_lexer": "ipython3",
   "version": "3.11.7"
  }
 },
 "nbformat": 4,
 "nbformat_minor": 5
}
